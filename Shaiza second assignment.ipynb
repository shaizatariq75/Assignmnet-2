{
 "cells": [
  {
   "attachments": {},
   "cell_type": "markdown",
   "metadata": {},
   "source": [
    "Assignment #2 "
   ]
  },
  {
   "attachments": {},
   "cell_type": "markdown",
   "metadata": {},
   "source": [
    "4-11.\n",
    "My Pizzas, Your Pizzas: Start with your program from Exercise 4-1 (page 60). Make a copy of the list of pizzas, and call it friend_pizzas. Then, do the following: • Add a new pizza to the original list. • Add a different pizza to the list friend_pizzas. • Prove that you have two separate lists. Print the message, My favorite pizzas are:, and then use a for loop to print the first list. Print the message, My friend’s favorite pizzas are:, and then use a for loop to print the second list. Make sure each new pizza is stored in the appropriate list."
   ]
  },
  {
   "cell_type": "code",
   "execution_count": 3,
   "metadata": {},
   "outputs": [
    {
     "name": "stdout",
     "output_type": "stream",
     "text": [
      "My Favorite pizzas are:\n",
      "tikka Pizza\n",
      "Siclian Pizza\n",
      "Greek Pizza\n",
      "Shahi Pizza\n",
      "\n",
      "My friend's Favorite pizzas are:\n",
      "tikka Pizza\n",
      "Siclian Pizza\n",
      "Greek Pizza\n",
      "Shahi Pizza\n"
     ]
    }
   ],
   "source": [
    "pizza_shaiza=['tikka Pizza','Siclian Pizza','Greek Pizza','Shahi Pizza']\n",
    "# Copying List to an other List\n",
    "friend_pizza_shaiza=pizza_shaiza[:]\n",
    "\n",
    "#Inserting new item in original List pizza_shaiza.append('Fajeeta') #inserting mew item to firends Pizza list friend_pizza_shaiza.append('BoneFire')\n",
    "\n",
    "print(\"My Favorite pizzas are:\")\n",
    "for pizzas in pizza_shaiza: print(pizzas)\n",
    "\n",
    "print(\"\\nMy friend's Favorite pizzas are:\")\n",
    "for friend_pizzas in friend_pizza_shaiza: print(friend_pizzas)\n"
   ]
  },
  {
   "attachments": {},
   "cell_type": "markdown",
   "metadata": {},
   "source": [
    "4-13.\n",
    "Buffet: A buffet-style restaurant offers only five basic foods. Think of five simple foods, and store them in a tuple. • Use a for loop to print each food the restaurant offers. • Try to modify one of the items, and make sure that Python rejects the change. • The restaurant changes its menu, replacing two of the items with different foods. Add a block of code that rewrites the tuple, and then use a for loop to print each of the items on the revised menu.\n"
   ]
  },
  {
   "cell_type": "code",
   "execution_count": 5,
   "metadata": {},
   "outputs": [
    {
     "name": "stdout",
     "output_type": "stream",
     "text": [
      "Our Resturant Offers following Foods:\n",
      "Mutton\n",
      "Chicken\n",
      "rice\n",
      "kabab\n",
      "fish\n"
     ]
    },
    {
     "ename": "TypeError",
     "evalue": "'tuple' object does not support item assignment",
     "output_type": "error",
     "traceback": [
      "\u001b[1;31m---------------------------------------------------------------------------\u001b[0m",
      "\u001b[1;31mTypeError\u001b[0m                                 Traceback (most recent call last)",
      "Cell \u001b[1;32mIn[5], line 6\u001b[0m\n\u001b[0;32m      4\u001b[0m \u001b[39mfor\u001b[39;00m foods \u001b[39min\u001b[39;00m buffet_shaiza: \u001b[39mprint\u001b[39m(foods)\n\u001b[0;32m      5\u001b[0m \u001b[39m#part 2\u001b[39;00m\n\u001b[1;32m----> 6\u001b[0m buffet_shaiza[\u001b[39m0\u001b[39;49m]\u001b[39m=\u001b[39m\u001b[39m'\u001b[39m\u001b[39mTikka Boti\u001b[39m\u001b[39m'\u001b[39m\n",
      "\u001b[1;31mTypeError\u001b[0m: 'tuple' object does not support item assignment"
     ]
    }
   ],
   "source": [
    "buffet_shaiza=('Mutton','Chicken','rice','kabab','fish') \n",
    "print(\"Our Resturant Offers following Foods:\")\n",
    "# Part 1\n",
    "for foods in buffet_shaiza: print(foods)\n",
    "#part 2\n",
    "buffet_shaiza[0]='Tikka Boti'\n"
   ]
  },
  {
   "cell_type": "code",
   "execution_count": 6,
   "metadata": {},
   "outputs": [
    {
     "name": "stdout",
     "output_type": "stream",
     "text": [
      "Our Resturant Offers following Foods after adding new items:\n",
      "Mutton\n",
      "Chicken\n",
      "rice\n",
      "kabab\n",
      "fish\n",
      "Tikka Boti\n"
     ]
    }
   ],
   "source": [
    "#part3\n",
    "buffet_shaiza=('Mutton','Chicken','rice','kabab','fish','Tikka Boti') \n",
    "print(\"Our Resturant Offers following Foods after adding new items:\") \n",
    "for foods in buffet_shaiza:\n",
    "    print(foods)\n"
   ]
  },
  {
   "attachments": {},
   "cell_type": "markdown",
   "metadata": {},
   "source": [
    "5-2.\n",
    "More Conditional Tests: You don’t have to limit the number of tests you create to 10. If you want to try more comparisons, write more tests and add them to conditional_tests.py. Have at least one True and one False result for each of the following: \n",
    "• Tests for equality and inequality with strings \n",
    "• Tests using the lower() function \n",
    "• Numerical tests involving equality and inequality, greater than and less than, greater than or equal to, and less than or equal to \n",
    "• Tests using the and keyword and the or keyword \n",
    "• Test whether an item is in a list \n",
    "• Test whether an item is not in a list\n"
   ]
  },
  {
   "cell_type": "code",
   "execution_count": 11,
   "metadata": {},
   "outputs": [
    {
     "name": "stdout",
     "output_type": "stream",
     "text": [
      "False\n",
      "True\n",
      "True\n",
      "False\n",
      "\n",
      "\n",
      "False\n",
      "False\n",
      "\n",
      "\n",
      "False\n",
      "True\n",
      "False\n",
      "False\n",
      "True\n",
      "True\n",
      "\n",
      "\n",
      "False\n"
     ]
    },
    {
     "ename": "NameError",
     "evalue": "name 'height_hamza' is not defined",
     "output_type": "error",
     "traceback": [
      "\u001b[1;31m---------------------------------------------------------------------------\u001b[0m",
      "\u001b[1;31mNameError\u001b[0m                                 Traceback (most recent call last)",
      "Cell \u001b[1;32mIn[11], line 29\u001b[0m\n\u001b[0;32m     27\u001b[0m height_shaiza\u001b[39m=\u001b[39m\u001b[39m5.7\u001b[39m\n\u001b[0;32m     28\u001b[0m \u001b[39mprint\u001b[39m(age_shaiza\u001b[39m>\u001b[39m\u001b[39m30\u001b[39m \u001b[39mand\u001b[39;00m height_hamza\u001b[39m>\u001b[39m\u001b[39m=\u001b[39m\u001b[39m5.6\u001b[39m) \n\u001b[1;32m---> 29\u001b[0m \u001b[39mprint\u001b[39m(age_shaiza\u001b[39m>\u001b[39m\u001b[39m30\u001b[39m \u001b[39mor\u001b[39;00m height_hamza\u001b[39m>\u001b[39m\u001b[39m=\u001b[39m\u001b[39m5.6\u001b[39m)\n\u001b[0;32m     31\u001b[0m \u001b[39m# Part 5\u001b[39;00m\n\u001b[0;32m     33\u001b[0m \u001b[39mprint\u001b[39m(\u001b[39m\"\u001b[39m\u001b[39m\\n\u001b[39;00m\u001b[39m\"\u001b[39m) \n",
      "\u001b[1;31mNameError\u001b[0m: name 'height_hamza' is not defined"
     ]
    }
   ],
   "source": [
    "# Part 1 \n",
    "cell_shaiza=\"OPPOA5S\" \n",
    "print(cell_shaiza=='Nokia') \n",
    "print(cell_shaiza=='OPPOA5S') \n",
    "print(cell_shaiza!='Nokia') \n",
    "print(cell_shaiza!='OPPOA5S')\n",
    "\n",
    "# Part 2 \n",
    "# Test using the Lower function \n",
    "print(\"\\n\") \n",
    "print(cell_shaiza.lower()=='OPPOA5S') \n",
    "print(cell_shaiza.lower()=='OPPOA5S')\n",
    "\n",
    "# Part 3 \n",
    "print(\"\\n\") \n",
    "a_shaiza=15\n",
    "print(a_shaiza==10) # Equality \n",
    "print(a_shaiza!=10) # Non Equality \n",
    "print(a_shaiza>15) # Greater then \n",
    "print(a_shaiza<15) # Less then \n",
    "print(a_shaiza>=10) #Greater then equal to \n",
    "print(a_shaiza<=15) # less then equal to\n",
    "\n",
    "#Part 4 \n",
    "print(\"\\n\") \n",
    "age_shaiza=27 \n",
    "height_shaiza=5.7\n",
    "print(age_shaiza>30 and height_hamza>=5.6) \n",
    "print(age_shaiza>30 or height_hamza>=5.6)\n",
    "\n",
    "# Part 5\n",
    " \n",
    "print(\"\\n\") \n",
    "list_shaiza=[30,25,56,580,582,100] \n",
    "item_shaiza=990\n",
    "for item in list_shaiza:\n",
    "    if(item_shaiza==item): item_shaiza=True\n",
    "if(item_shaiza==True):\n",
    "    print(\"Item is Available in the list\")\n",
    "else:\n",
    "    print(\"Item is Not available in the list\")\n"
   ]
  },
  {
   "attachments": {},
   "cell_type": "markdown",
   "metadata": {},
   "source": [
    "6-3.\n",
    "Glossary: A Python dictionary can be used to model an actual dictionary. However, to avoid confusion, let’s call it a glossary. \n",
    "• Think of five programming words you’ve learned about in the previous chapters. \n",
    "Use these words as the keys in your glossary, and store their meanings as values. \n",
    "• Print each word and its meaning as neatly formatted output. \n",
    "You might print the word followed by a colon and then its meaning, or print the word on one line and then print its meaning indented on a second line. \n",
    "Use the newline character (\\n) to insert a blank line between each word-meaning pair in your output. Looping\n"
   ]
  },
  {
   "cell_type": "code",
   "execution_count": 12,
   "metadata": {},
   "outputs": [
    {
     "name": "stdout",
     "output_type": "stream",
     "text": [
      "Variable:\tNamed memory locations\n",
      "List:\tdata structure to store group of items\n",
      "Python:\tA high level Programing Language\n",
      "if:\tconditional Statement\n",
      "Loops:\tRepeatedly executes statement or block of statements\n"
     ]
    }
   ],
   "source": [
    "glossary_shaiza={\n",
    "'Variable':'Named memory locations', \n",
    "'List':'data structure to store group of items',\n",
    " \n",
    "'Python':'A high level Programing Language', \n",
    "'if':'conditional Statement',\n",
    "'Loops':'Repeatedly executes statement or block of statements'\n",
    "}\n",
    "for key, value in glossary_shaiza.items(): \n",
    "    print(key+\":\\t\"+value)\n"
   ]
  },
  {
   "attachments": {},
   "cell_type": "markdown",
   "metadata": {},
   "source": [
    "6-12.\n",
    "Extensions: We’re now working with examples that are complex enough that they can be extended in any number of ways. Use one of the example programs from this chapter, and extend it by adding new keys and values, changing the context of the program or improving the formatting of the output.\n"
   ]
  },
  {
   "cell_type": "code",
   "execution_count": 13,
   "metadata": {},
   "outputs": [
    {
     "name": "stdout",
     "output_type": "stream",
     "text": [
      "Follwing items are in the dictionary.\n",
      "Ayesha's favorite Language is: Python\n",
      "Naila's favorite Language is: C\n",
      "Neelum's favorite Language is: Ruby\n",
      "Shaiza's favorite Language is: Java\n",
      "\n",
      "Follwing items are in the dictionary after adding new keys and values.\n",
      "Ayesha's favorite Language is --> PYTHON\n",
      "Naila's favorite Language is --> C\n",
      "Neelum's favorite Language is --> RUBY\n",
      "Shaiza's favorite Language is --> JAVA\n"
     ]
    }
   ],
   "source": [
    "favorite_languages_ayesha = { 'ayesha': 'python',\n",
    "'naila': 'c',\n",
    "'neelum': 'ruby',\n",
    "'shaiza': 'java',\n",
    "}\n",
    "print(\"Follwing items are in the dictionary.\")\n",
    "for name,language in favorite_languages_ayesha.items(): \n",
    "    print(name.title()+\"'s favorite Language is: \"+language.title())\n",
    "\n",
    "# adding new keys and values in the dictionary favorite_languages_kashif['Lara']='html' favorite_languages_kashif['Smith']='php'\n",
    "print(\"\\nFollwing items are in the dictionary after adding new keys and values.\")\n",
    "for name,language in favorite_languages_ayesha.items(): \n",
    "    print (name.title()+\"'s favorite Language is --> \"+language.upper())\n"
   ]
  },
  {
   "attachments": {},
   "cell_type": "markdown",
   "metadata": {},
   "source": [
    "6-11.\n",
    "Cities: Make a dictionary called cities. Use the names of three cities as keys in your dictionary. Create a dictionary of information about each city and include the country that the city is in, its approximate population, and one fact about that city. The keys for each city’s dictionary should be something like country, population, and fact. Print the name of each city and all of the information you have stored about it.\n"
   ]
  },
  {
   "cell_type": "code",
   "execution_count": 29,
   "metadata": {},
   "outputs": [
    {
     "name": "stdout",
     "output_type": "stream",
     "text": [
      "\n",
      "City Name: Lahore\n",
      "\tContry: Pakistan\n",
      "\tPopulation: 11.13 Million\n",
      "\tFact: Biggest city of the region\n",
      "\n",
      "City Name: New York\n",
      "\tContry: United States\n",
      "\tPopulation: 8.468 Million\n",
      "\tFact: About 22 percent of New York City's land is used for public parks \n",
      "\n",
      "City Name: Mumbai\n",
      "\tContry: India\n",
      "\tPopulation: 20.96 Million\n",
      "\tFact: Mumbai was earlier called as Bombay\n"
     ]
    }
   ],
   "source": [
    "cities_ayesha={ 'Lahore':{\n",
    "'Country':'Pakistan', 'Population':'11.13 Million', 'Fact':'Biggest city of the region'\n",
    "},\n",
    "'New York':{\n",
    "'Country':'United States', 'Population':'8.468 Million',\n",
    "'Fact':'About 22 percent of New York City\\'s land is used for public parks '\n",
    "},\n",
    "'Mumbai':{\n",
    "'Country':'India', 'Population':'20.96 Million',\n",
    "'Fact':'Mumbai was earlier called as Bombay'\n",
    "}\n",
    "}\n",
    "for cities,info in cities_ayesha.items(): \n",
    "    print(\"\\nCity Name: \"+cities) \n",
    "    print(\"\\tContry: \"+info['Country']) \n",
    "    print(\"\\tPopulation: \"+info['Population']) \n",
    "    print(\"\\tFact: \"+info['Fact'])\n"
   ]
  }
 ],
 "metadata": {
  "kernelspec": {
   "display_name": "Python 3",
   "language": "python",
   "name": "python3"
  },
  "language_info": {
   "codemirror_mode": {
    "name": "ipython",
    "version": 3
   },
   "file_extension": ".py",
   "mimetype": "text/x-python",
   "name": "python",
   "nbconvert_exporter": "python",
   "pygments_lexer": "ipython3",
   "version": "3.10.9"
  },
  "orig_nbformat": 4,
  "vscode": {
   "interpreter": {
    "hash": "ba37d69516b96b2df66115ef342e83722e1a1518f5d2e0ee41eb08141fa2fe2a"
   }
  }
 },
 "nbformat": 4,
 "nbformat_minor": 2
}
